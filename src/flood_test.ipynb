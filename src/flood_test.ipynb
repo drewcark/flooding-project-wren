{
 "cells": [
  {
   "cell_type": "code",
   "execution_count": 3,
   "id": "a59272e6-3c5f-41de-9525-c0573f09bd61",
   "metadata": {},
   "outputs": [],
   "source": [
    "#pip install segment-geospatial opencv-python supervision groundingdino-py \"C:\\Users\\warre\\Downloads\\gdal-3.10.2-cp312-cp312-win_amd64.whl\" osr --user"
   ]
  },
  {
   "cell_type": "code",
   "execution_count": 1,
   "id": "9035be95-fddd-4abb-9209-aa41b55ad2b4",
   "metadata": {},
   "outputs": [],
   "source": [
    "from samgeo.text_sam import LangSAM"
   ]
  },
  {
   "cell_type": "code",
   "execution_count": 5,
   "id": "8ecb538f-3de4-40e5-935f-679088aee29f",
   "metadata": {},
   "outputs": [],
   "source": [
    "images = [''] * 3 \n",
    "\n",
    "images[0] = 'HALM1_75_20240408T153559_20240408T153934_T19TDK_VIS.tif'\n",
    "images[1] = 'HALM1_75_20240418T153559_20240418T153632_T19TDK_VIS.tif'\n",
    "images[2] = 'HALM1_75_20240423T153601_20240423T153815_T19TDK_VIS.tif'"
   ]
  },
  {
   "cell_type": "code",
   "execution_count": null,
   "id": "7e5b54ce-9074-461f-a089-b4ea5016848c",
   "metadata": {
    "scrolled": true
   },
   "outputs": [
    {
     "name": "stdout",
     "output_type": "stream",
     "text": [
      "final text_encoder_type: bert-base-uncased\n"
     ]
    }
   ],
   "source": [
    "sam = LangSAM()\n",
    "\n",
    "text_prompt = \"segment river in aerial view\"\n",
    "\n",
    "for i in range(3):\n",
    "    title = \"river_\" + str(i)\n",
    "    tif_title = title + \".tif\"\n",
    "    shp_title = title + \"shp\"\n",
    "    sam.predict(images[i], text_prompt, box_threshold=0.36, text_threshold=0.36, automatic=False)\n",
    "\n",
    "    sam.show_anns(\n",
    "        cmap=\"Greens\",\n",
    "        add_boxes=False,\n",
    "        title=\"Segmentation of water\",\n",
    "        blend=True,\n",
    "        output= tif_title\n",
    "    )\n",
    "\n",
    "    sam.raster_to_vector(tif_title, shp_title)"
   ]
  },
  {
   "cell_type": "code",
   "execution_count": null,
   "id": "4bf519f7-de4d-48aa-84cd-7e4f6d81aab2",
   "metadata": {},
   "outputs": [],
   "source": []
  }
 ],
 "metadata": {
  "kernelspec": {
   "display_name": "Python [conda env:base] *",
   "language": "python",
   "name": "conda-base-py"
  },
  "language_info": {
   "codemirror_mode": {
    "name": "ipython",
    "version": 3
   },
   "file_extension": ".py",
   "mimetype": "text/x-python",
   "name": "python",
   "nbconvert_exporter": "python",
   "pygments_lexer": "ipython3",
   "version": "3.12.7"
  }
 },
 "nbformat": 4,
 "nbformat_minor": 5
}
